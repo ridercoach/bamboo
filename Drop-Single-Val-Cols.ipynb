{
 "cells": [
  {
   "cell_type": "markdown",
   "metadata": {},
   "source": [
    "# Dropping Single-Value Columns"
   ]
  },
  {
   "cell_type": "markdown",
   "metadata": {},
   "source": [
    "Sometimes as you boil your data down, you end up with columns that either contain no data at all (or very little) or contain the same value in every row.  Columns like this are all noise and no signal, and I generally like to get rid of them.\n",
    "\n",
    "Dropping empty (or nearly empty) columns is easy: use `dropna()` with appropriate values for `how` and `thresh`.\n",
    "\n",
    "But what about columns that contain the same non-NaN value everywhere, such as columns A, C, and E in the example below?"
   ]
  },
  {
   "cell_type": "code",
   "execution_count": 23,
   "metadata": {},
   "outputs": [
    {
     "data": {
      "text/html": [
       "<div>\n",
       "<style scoped>\n",
       "    .dataframe tbody tr th:only-of-type {\n",
       "        vertical-align: middle;\n",
       "    }\n",
       "\n",
       "    .dataframe tbody tr th {\n",
       "        vertical-align: top;\n",
       "    }\n",
       "\n",
       "    .dataframe thead th {\n",
       "        text-align: right;\n",
       "    }\n",
       "</style>\n",
       "<table border=\"1\" class=\"dataframe\">\n",
       "  <thead>\n",
       "    <tr style=\"text-align: right;\">\n",
       "      <th></th>\n",
       "      <th>A</th>\n",
       "      <th>B</th>\n",
       "      <th>C</th>\n",
       "      <th>D</th>\n",
       "      <th>E</th>\n",
       "    </tr>\n",
       "  </thead>\n",
       "  <tbody>\n",
       "    <tr>\n",
       "      <th>0</th>\n",
       "      <td>12.0</td>\n",
       "      <td>0</td>\n",
       "      <td>3</td>\n",
       "      <td>Trumpet</td>\n",
       "      <td>Bad Eggs</td>\n",
       "    </tr>\n",
       "    <tr>\n",
       "      <th>1</th>\n",
       "      <td>12.0</td>\n",
       "      <td>1</td>\n",
       "      <td>3</td>\n",
       "      <td>Elephant</td>\n",
       "      <td>Bad Eggs</td>\n",
       "    </tr>\n",
       "    <tr>\n",
       "      <th>2</th>\n",
       "      <td>12.0</td>\n",
       "      <td>2</td>\n",
       "      <td>3</td>\n",
       "      <td>Elephant</td>\n",
       "      <td>Bad Eggs</td>\n",
       "    </tr>\n",
       "    <tr>\n",
       "      <th>3</th>\n",
       "      <td>12.0</td>\n",
       "      <td>3</td>\n",
       "      <td>3</td>\n",
       "      <td>Trumpet</td>\n",
       "      <td>Bad Eggs</td>\n",
       "    </tr>\n",
       "  </tbody>\n",
       "</table>\n",
       "</div>"
      ],
      "text/plain": [
       "      A  B  C         D         E\n",
       "0  12.0  0  3   Trumpet  Bad Eggs\n",
       "1  12.0  1  3  Elephant  Bad Eggs\n",
       "2  12.0  2  3  Elephant  Bad Eggs\n",
       "3  12.0  3  3   Trumpet  Bad Eggs"
      ]
     },
     "execution_count": 23,
     "metadata": {},
     "output_type": "execute_result"
    }
   ],
   "source": [
    "import pandas as pd\n",
    "import numpy as np\n",
    "\n",
    "df = pd.DataFrame({ 'A' : 12.,\n",
    "                    'B' : list(range(4)),\n",
    "                    'C' : 3,\n",
    "                    'D' : [\"Trumpet\",\"Elephant\",\"Elephant\",\"Trumpet\"],\n",
    "                    'E' : 'Bad Eggs' })\n",
    "df"
   ]
  },
  {
   "cell_type": "markdown",
   "metadata": {},
   "source": [
    "Here is one way to do it.  I found this on a forum, and I wish I could find it again so I could give credit to the original source.  But maybe it is a common maneuver anyway.  Anyway, the explanation given here is my own.\n",
    "\n",
    "I will go through it step by step.  Obviously it could be done more concisely.\n",
    "\n",
    "First, if we use the `apply()` method of the dataframe with `axis=0`, then whatever function we specify will be iterated row-by-row down each column, yielding a result which is a series in which each element corrresponds to a column of the dataframe, and which, conveniently, is indexed by column name.\n",
    "\n",
    "Below we use this technique with the `nunique` function, and get a series which shows the number of unique values in each column.  The elements in this series with a value of 1 correspond to the single-value columns we would like to drop."
   ]
  },
  {
   "cell_type": "code",
   "execution_count": 24,
   "metadata": {},
   "outputs": [
    {
     "data": {
      "text/plain": [
       "A    1\n",
       "B    4\n",
       "C    1\n",
       "D    2\n",
       "E    1\n",
       "dtype: int64"
      ]
     },
     "execution_count": 24,
     "metadata": {},
     "output_type": "execute_result"
    }
   ],
   "source": [
    "ser_unique = df.apply(pd.Series.nunique, axis=0)\n",
    "ser_unique"
   ]
  },
  {
   "cell_type": "markdown",
   "metadata": {},
   "source": [
    "Now, if from the above series we can get a list of the column names which have only one unique value, then we can pass this list to the `drop()` method and accomplish our goal.\n",
    "\n",
    "Well, it turns out that by using a combination of boolean indexing and the `index` property of a series, we can obtain just such a list:"
   ]
  },
  {
   "cell_type": "code",
   "execution_count": 25,
   "metadata": {},
   "outputs": [
    {
     "data": {
      "text/plain": [
       "Index(['A', 'C', 'E'], dtype='object')"
      ]
     },
     "execution_count": 25,
     "metadata": {},
     "output_type": "execute_result"
    }
   ],
   "source": [
    "del_list = ser_unique[ser_unique == 1].index\n",
    "del_list"
   ]
  },
  {
   "cell_type": "markdown",
   "metadata": {},
   "source": [
    "Technically, what we have above is an Index object and not a list, but that will also work for passing to the `drop()` method.  If you want to use a list instead, you can wrap the expression above in `list(...)`.  It seems to work either way.\n",
    "\n",
    "And then all that remains is to use the list (or index) to drop the columns:"
   ]
  },
  {
   "cell_type": "code",
   "execution_count": 26,
   "metadata": {},
   "outputs": [
    {
     "data": {
      "text/html": [
       "<div>\n",
       "<style scoped>\n",
       "    .dataframe tbody tr th:only-of-type {\n",
       "        vertical-align: middle;\n",
       "    }\n",
       "\n",
       "    .dataframe tbody tr th {\n",
       "        vertical-align: top;\n",
       "    }\n",
       "\n",
       "    .dataframe thead th {\n",
       "        text-align: right;\n",
       "    }\n",
       "</style>\n",
       "<table border=\"1\" class=\"dataframe\">\n",
       "  <thead>\n",
       "    <tr style=\"text-align: right;\">\n",
       "      <th></th>\n",
       "      <th>B</th>\n",
       "      <th>D</th>\n",
       "    </tr>\n",
       "  </thead>\n",
       "  <tbody>\n",
       "    <tr>\n",
       "      <th>0</th>\n",
       "      <td>0</td>\n",
       "      <td>Trumpet</td>\n",
       "    </tr>\n",
       "    <tr>\n",
       "      <th>1</th>\n",
       "      <td>1</td>\n",
       "      <td>Elephant</td>\n",
       "    </tr>\n",
       "    <tr>\n",
       "      <th>2</th>\n",
       "      <td>2</td>\n",
       "      <td>Elephant</td>\n",
       "    </tr>\n",
       "    <tr>\n",
       "      <th>3</th>\n",
       "      <td>3</td>\n",
       "      <td>Trumpet</td>\n",
       "    </tr>\n",
       "  </tbody>\n",
       "</table>\n",
       "</div>"
      ],
      "text/plain": [
       "   B         D\n",
       "0  0   Trumpet\n",
       "1  1  Elephant\n",
       "2  2  Elephant\n",
       "3  3   Trumpet"
      ]
     },
     "execution_count": 26,
     "metadata": {},
     "output_type": "execute_result"
    }
   ],
   "source": [
    "df.drop(del_list,axis=1,inplace=True)\n",
    "df.head()"
   ]
  }
 ],
 "metadata": {
  "kernelspec": {
   "display_name": "Python 3",
   "language": "python",
   "name": "python3"
  },
  "language_info": {
   "codemirror_mode": {
    "name": "ipython",
    "version": 3
   },
   "file_extension": ".py",
   "mimetype": "text/x-python",
   "name": "python",
   "nbconvert_exporter": "python",
   "pygments_lexer": "ipython3",
   "version": "3.6.5"
  }
 },
 "nbformat": 4,
 "nbformat_minor": 2
}
